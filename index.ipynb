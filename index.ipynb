{
 "cells": [
  {
   "cell_type": "markdown",
   "metadata": {},
   "source": [
    "# Pesquisa Operacional"
   ]
  },
  {
   "cell_type": "markdown",
   "metadata": {},
   "source": [
    "<div style=\"text-align:justify\">\n",
    "A pesquisa operacional surgiu durante a II Guerra Mundial, quando os aliados se viram confrontados com problemas de natureza logística, de tática e estratégia militar, de grande dimensão e complexidade. Foram criados grupos multidisciplinares de cientistas em que se incluíam matemáticos, físicos e engenheiros para apoiar os comandos operacionais na resolução desses problemas.\n",
    "</div>"
   ]
  },
  {
   "cell_type": "markdown",
   "metadata": {},
   "source": [
    "### Experimentos"
   ]
  },
  {
   "cell_type": "markdown",
   "metadata": {},
   "source": [
    "- [Mix de Produção](production-mix.ipynb)\n",
    "- [Problema da Mochila](knapsack.ipynb)\n",
    "- [Problema das Multiplas Mochilas](multi-knapsack.ipynb)\n",
    "- [Problema de Designação de Tarefas](assignment-tasks.ipynb)"
   ]
  }
 ],
 "metadata": {
  "kernelspec": {
   "display_name": "Python 3",
   "language": "python",
   "name": "python3"
  },
  "language_info": {
   "codemirror_mode": {
    "name": "ipython",
    "version": 3
   },
   "file_extension": ".py",
   "mimetype": "text/x-python",
   "name": "python",
   "nbconvert_exporter": "python",
   "pygments_lexer": "ipython3",
   "version": "3.8.5"
  }
 },
 "nbformat": 4,
 "nbformat_minor": 4
}
