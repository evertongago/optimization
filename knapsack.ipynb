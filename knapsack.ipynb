{
 "cells": [
  {
   "cell_type": "markdown",
   "metadata": {},
   "source": [
    "# Problema da Mochila"
   ]
  },
  {
   "cell_type": "markdown",
   "metadata": {},
   "source": [
    "<div style=\"text-align:justify\">\n",
    "O problema da mochila (em <i>inglês</i>, Knapsack Problem) é um problema de optimização combinatória. O nome dá-se devido ao modelo de uma situação em que é necessário preencher uma mochila com objetos de diferentes pesos e valores. O objetivo é que se preencha a mochila com o maior valor possível, não ultrapassando o peso máximo.\n",
    "</div>"
   ]
  },
  {
   "cell_type": "markdown",
   "metadata": {},
   "source": [
    "## Variáveis"
   ]
  },
  {
   "cell_type": "markdown",
   "metadata": {},
   "source": [
    "Seja:<br>\n",
    "- C = Capacidade da mochila\n",
    "- v<sub>i</sub> = Valor do <i>i-ésimo</i> objeto\n",
    "- w<sub>i</sub> = Peso do <i>i-ésimo</i> objeto\n",
    "- x<sub>i</sub> = x<sub>i</sub> &isin; {0, 1} &frasl; x<sub>i</sub> &sub; mochila"
   ]
  },
  {
   "cell_type": "markdown",
   "metadata": {},
   "source": [
    "## Função Objetivo\n",
    "<br>\n",
    "Maximizar o valor dos itens escolhidos."
   ]
  },
  {
   "cell_type": "markdown",
   "metadata": {},
   "source": [
    "$$ max \\sum_{i=0}^{n} v_i.x_i $$"
   ]
  },
  {
   "cell_type": "markdown",
   "metadata": {},
   "source": [
    "## Restrição\n",
    "<br>\n",
    "O peso total dos itens escolhidos não pode exceder a capacidade da mochila."
   ]
  },
  {
   "cell_type": "markdown",
   "metadata": {},
   "source": [
    "$$ \\sum_{i=0}^{n} w_i.x_i \\leq C $$"
   ]
  },
  {
   "cell_type": "markdown",
   "metadata": {},
   "source": [
    "## Implementação"
   ]
  },
  {
   "cell_type": "markdown",
   "metadata": {},
   "source": [
    "<div style=\"text-align:justify\">\n",
    "Vamos implementar a solução modelada utilizando a Gurobi API. Para isso, vamos criar dados sintéticos que representem o peso e o valor dos objetos a serem adicionados na mochila.\n",
    "</div>"
   ]
  },
  {
   "cell_type": "markdown",
   "metadata": {},
   "source": [
    "#### Carregando Dependências"
   ]
  },
  {
   "cell_type": "code",
   "execution_count": 1,
   "metadata": {},
   "outputs": [],
   "source": [
    "import gurobipy, pandas"
   ]
  },
  {
   "cell_type": "markdown",
   "metadata": {},
   "source": [
    "#### Dados"
   ]
  },
  {
   "cell_type": "code",
   "execution_count": 2,
   "metadata": {},
   "outputs": [],
   "source": [
    "C = 1000\n",
    "\n",
    "df = pandas.read_csv('datasets/knapsack.csv')\n",
    "weights = df['weights'].values\n",
    "values = df['values'].values"
   ]
  },
  {
   "cell_type": "markdown",
   "metadata": {},
   "source": [
    "#### Lista de Itens"
   ]
  },
  {
   "cell_type": "code",
   "execution_count": 3,
   "metadata": {},
   "outputs": [
    {
     "name": "stdout",
     "output_type": "stream",
     "text": [
      "['item_0', 'item_1', 'item_2', 'item_3', 'item_4', 'item_5', 'item_6', 'item_7', 'item_8', 'item_9', 'item_10', 'item_11', 'item_12', 'item_13', 'item_14']\n"
     ]
    }
   ],
   "source": [
    "items = []\n",
    "for i in range(len(weights)):\n",
    "    items.append('item_{}'.format(i))\n",
    "\n",
    "print(items)"
   ]
  },
  {
   "cell_type": "markdown",
   "metadata": {},
   "source": [
    "#### Dicionário de Pesos"
   ]
  },
  {
   "cell_type": "code",
   "execution_count": 4,
   "metadata": {},
   "outputs": [
    {
     "name": "stdout",
     "output_type": "stream",
     "text": [
      "{'item_0': 65, 'item_1': 94, 'item_2': 119, 'item_3': 59, 'item_4': 149, 'item_5': 114, 'item_6': 57, 'item_7': 136, 'item_8': 100, 'item_9': 150, 'item_10': 122, 'item_11': 117, 'item_12': 120, 'item_13': 130, 'item_14': 133}\n"
     ]
    }
   ],
   "source": [
    "w = {}\n",
    "for idx, value in enumerate(weights):\n",
    "    w[items[idx]] = value\n",
    "\n",
    "print(w)"
   ]
  },
  {
   "cell_type": "markdown",
   "metadata": {},
   "source": [
    "#### Dicionário de Valores"
   ]
  },
  {
   "cell_type": "code",
   "execution_count": 5,
   "metadata": {},
   "outputs": [
    {
     "name": "stdout",
     "output_type": "stream",
     "text": [
      "{'item_0': 455, 'item_1': 691, 'item_2': 833, 'item_3': 425, 'item_4': 1064, 'item_5': 758, 'item_6': 419, 'item_7': 914, 'item_8': 651, 'item_9': 966, 'item_10': 828, 'item_11': 827, 'item_12': 857, 'item_13': 837, 'item_14': 894}\n"
     ]
    }
   ],
   "source": [
    "v = {}\n",
    "for idx, value in enumerate(values):\n",
    "    v[items[idx]] = value\n",
    "\n",
    "print(v)"
   ]
  },
  {
   "cell_type": "markdown",
   "metadata": {},
   "source": [
    "#### Modelagem"
   ]
  },
  {
   "cell_type": "code",
   "execution_count": 6,
   "metadata": {},
   "outputs": [
    {
     "name": "stdout",
     "output_type": "stream",
     "text": [
      "Restricted license - for non-production use only - expires 2022-01-13\n",
      "Gurobi Optimizer version 9.1.1 build v9.1.1rc0 (linux64)\n",
      "Thread count: 4 physical cores, 8 logical processors, using up to 8 threads\n",
      "Optimize a model with 1 rows, 15 columns and 15 nonzeros\n",
      "Model fingerprint: 0x397a9a66\n",
      "Variable types: 0 continuous, 15 integer (15 binary)\n",
      "Coefficient statistics:\n",
      "  Matrix range     [6e+01, 2e+02]\n",
      "  Objective range  [4e+02, 1e+03]\n",
      "  Bounds range     [1e+00, 1e+00]\n",
      "  RHS range        [1e+03, 1e+03]\n",
      "Found heuristic solution: objective 6210.0000000\n",
      "Presolve removed 1 rows and 15 columns\n",
      "Presolve time: 0.01s\n",
      "Presolve: All rows and columns removed\n",
      "\n",
      "Explored 0 nodes (0 simplex iterations) in 0.26 seconds\n",
      "Thread count was 1 (of 8 available processors)\n",
      "\n",
      "Solution count 2: 6987 \n",
      "\n",
      "Optimal solution found (tolerance 1.00e-04)\n",
      "Best objective 6.987000000000e+03, best bound 6.987000000000e+03, gap 0.0000%\n"
     ]
    }
   ],
   "source": [
    "model = gurobipy.Model()\n",
    "\n",
    "# decision variables\n",
    "x = model.addVars(items, vtype=gurobipy.GRB.BINARY)\n",
    "\n",
    "# objective to optimize\n",
    "model.setObjective(\n",
    "    gurobipy.quicksum([v[i] * x[i] for i in items]),\n",
    "    sense=gurobipy.GRB.MAXIMIZE\n",
    ")\n",
    "\n",
    "# constraint 1\n",
    "c1 = model.addConstr(\n",
    "    gurobipy.quicksum([w[i] * x[i] for i in items]) <= C\n",
    ")\n",
    "\n",
    "model.optimize()"
   ]
  },
  {
   "cell_type": "markdown",
   "metadata": {},
   "source": [
    "#### Itens Selecionados"
   ]
  },
  {
   "cell_type": "code",
   "execution_count": 7,
   "metadata": {},
   "outputs": [
    {
     "name": "stdout",
     "output_type": "stream",
     "text": [
      "['item_0', 'item_1', 'item_2', 'item_3', 'item_5', 'item_6', 'item_10', 'item_11', 'item_12', 'item_14']\n"
     ]
    }
   ],
   "source": [
    "approved = []\n",
    "for i in items:\n",
    "    if round(x[i].X) > 0:\n",
    "        approved.append(i)\n",
    "\n",
    "print(approved)"
   ]
  },
  {
   "cell_type": "markdown",
   "metadata": {},
   "source": [
    "#### Valor Acumulado"
   ]
  },
  {
   "cell_type": "code",
   "execution_count": 8,
   "metadata": {},
   "outputs": [
    {
     "name": "stdout",
     "output_type": "stream",
     "text": [
      "Valor Objetivo: 6987.0\n"
     ]
    }
   ],
   "source": [
    "print('Valor Objetivo: {}'.format(model.objVal))"
   ]
  },
  {
   "cell_type": "markdown",
   "metadata": {},
   "source": [
    "#### Capacidade Utilizada"
   ]
  },
  {
   "cell_type": "code",
   "execution_count": 9,
   "metadata": {},
   "outputs": [
    {
     "name": "stdout",
     "output_type": "stream",
     "text": [
      "Capacidade Utilizada: 1000.0\n"
     ]
    }
   ],
   "source": [
    "print('Capacidade Utilizada: {}'.format(C - c1.Slack))"
   ]
  }
 ],
 "metadata": {
  "kernelspec": {
   "display_name": "Python 3",
   "language": "python",
   "name": "python3"
  },
  "language_info": {
   "codemirror_mode": {
    "name": "ipython",
    "version": 3
   },
   "file_extension": ".py",
   "mimetype": "text/x-python",
   "name": "python",
   "nbconvert_exporter": "python",
   "pygments_lexer": "ipython3",
   "version": "3.8.5"
  }
 },
 "nbformat": 4,
 "nbformat_minor": 4
}
