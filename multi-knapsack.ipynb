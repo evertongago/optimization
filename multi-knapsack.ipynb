{
 "cells": [
  {
   "cell_type": "markdown",
   "metadata": {},
   "source": [
    "# Problema das Mochilas Multiplas"
   ]
  },
  {
   "cell_type": "markdown",
   "metadata": {},
   "source": [
    "<div style=\"text-align:justify\">\n",
    "O problema das mochilas multiplas (em <i>inglês</i>, Multi-Knapsack Problem) é um problema de optimização combinatória. O nome dá-se devido ao modelo de uma situação em que é necessário preencher <i>n</i> mochilas com objetos de diferentes pesos e valores. O objetivo é que se preencha as mochilas com o maior valor possível, não ultrapassando o peso máximo de cada uma.\n",
    "</div>"
   ]
  },
  {
   "cell_type": "markdown",
   "metadata": {},
   "source": [
    "## Variáveis"
   ]
  },
  {
   "cell_type": "markdown",
   "metadata": {},
   "source": [
    "Seja:<br>\n",
    "- C<sub>j</sub> = Capacidade da j-ésima mochila\n",
    "- v<sub>i</sub> = Valor do <i>i-ésimo</i> objeto\n",
    "- w<sub>i</sub> = Peso do <i>i-ésimo</i> objeto\n",
    "- x<sub>ij</sub> = x<sub>ij</sub> &isin; {0, 1} &frasl; x<sub>i</sub> &sub; Mochila<sub>j</sub>"
   ]
  },
  {
   "cell_type": "markdown",
   "metadata": {},
   "source": [
    "## Função Objetivo\n",
    "<br>\n",
    "Maximizar o valor dos itens escolhidos."
   ]
  },
  {
   "cell_type": "markdown",
   "metadata": {},
   "source": [
    "$$ max \\sum_{i=0}^{n} \\sum_{j=0}^{m} v_i.x_{ij} $$"
   ]
  },
  {
   "cell_type": "markdown",
   "metadata": {},
   "source": [
    "## Restrições"
   ]
  },
  {
   "cell_type": "markdown",
   "metadata": {},
   "source": [
    "O mesmo item deve estar contigo em no máximo uma mochila."
   ]
  },
  {
   "cell_type": "markdown",
   "metadata": {},
   "source": [
    "$$ \\sum_{j=0}^{m} x_{ij} \\leq 1, \\forall i=0 ... n $$ "
   ]
  },
  {
   "cell_type": "markdown",
   "metadata": {},
   "source": [
    "O peso total dos itens escolhidos não pode exceder a capacidade de cada mochila."
   ]
  },
  {
   "cell_type": "markdown",
   "metadata": {},
   "source": [
    "$$ \\sum_{i=0}^{n} w_i.x_{ij} \\leq C_j, \\forall j=0 ... m $$"
   ]
  },
  {
   "cell_type": "markdown",
   "metadata": {},
   "source": [
    "## Implementação"
   ]
  },
  {
   "cell_type": "markdown",
   "metadata": {},
   "source": [
    "<div style=\"text-align:justify\">\n",
    "Vamos implementar a solução modelada utilizando a Gurobi API. Para isso, vamos criar dados sintéticos que representem o peso e o valor dos objetos a serem adicionados na mochila.\n",
    "</div>"
   ]
  },
  {
   "cell_type": "markdown",
   "metadata": {},
   "source": [
    "#### Carregando Dependências"
   ]
  },
  {
   "cell_type": "code",
   "execution_count": 1,
   "metadata": {},
   "outputs": [],
   "source": [
    "import gurobipy, pandas"
   ]
  },
  {
   "cell_type": "markdown",
   "metadata": {},
   "source": [
    "#### Dados"
   ]
  },
  {
   "cell_type": "code",
   "execution_count": 2,
   "metadata": {},
   "outputs": [],
   "source": [
    "capacities = [600, 375]\n",
    "\n",
    "df = pandas.read_csv('datasets/knapsack.csv')\n",
    "weights = df['weights'].values\n",
    "values = df['values'].values"
   ]
  },
  {
   "cell_type": "markdown",
   "metadata": {},
   "source": [
    "#### Lista de Itens"
   ]
  },
  {
   "cell_type": "code",
   "execution_count": 3,
   "metadata": {},
   "outputs": [
    {
     "name": "stdout",
     "output_type": "stream",
     "text": [
      "['item_0', 'item_1', 'item_2', 'item_3', 'item_4', 'item_5', 'item_6', 'item_7', 'item_8', 'item_9', 'item_10', 'item_11', 'item_12', 'item_13', 'item_14']\n"
     ]
    }
   ],
   "source": [
    "items = []\n",
    "for i in range(len(weights)):\n",
    "    items.append('item_{}'.format(i))\n",
    "\n",
    "print(items)"
   ]
  },
  {
   "cell_type": "markdown",
   "metadata": {},
   "source": [
    "#### Lista de Mochilas"
   ]
  },
  {
   "cell_type": "code",
   "execution_count": 4,
   "metadata": {},
   "outputs": [
    {
     "name": "stdout",
     "output_type": "stream",
     "text": [
      "['knap_0', 'knap_1']\n"
     ]
    }
   ],
   "source": [
    "knaps = []\n",
    "for i in range(len(capacities)):\n",
    "    knaps.append('knap_{}'.format(i))\n",
    "\n",
    "print(knaps)"
   ]
  },
  {
   "cell_type": "markdown",
   "metadata": {},
   "source": [
    "#### Capacidades"
   ]
  },
  {
   "cell_type": "code",
   "execution_count": 5,
   "metadata": {},
   "outputs": [
    {
     "data": {
      "text/plain": [
       "{'knap_0': 600, 'knap_1': 375}"
      ]
     },
     "execution_count": 5,
     "metadata": {},
     "output_type": "execute_result"
    }
   ],
   "source": [
    "C = {}\n",
    "for i, value in enumerate(knaps):\n",
    "    C[value] = capacities[i]\n",
    "\n",
    "C"
   ]
  },
  {
   "cell_type": "markdown",
   "metadata": {},
   "source": [
    "#### Dicionário de Pesos"
   ]
  },
  {
   "cell_type": "code",
   "execution_count": 6,
   "metadata": {},
   "outputs": [
    {
     "name": "stdout",
     "output_type": "stream",
     "text": [
      "{'item_0': 65, 'item_1': 94, 'item_2': 119, 'item_3': 59, 'item_4': 149, 'item_5': 114, 'item_6': 57, 'item_7': 136, 'item_8': 100, 'item_9': 150, 'item_10': 122, 'item_11': 117, 'item_12': 120, 'item_13': 130, 'item_14': 133}\n"
     ]
    }
   ],
   "source": [
    "w = {}\n",
    "for idx, value in enumerate(weights):\n",
    "    w[items[idx]] = value\n",
    "\n",
    "print(w)"
   ]
  },
  {
   "cell_type": "markdown",
   "metadata": {},
   "source": [
    "#### Dicionário de Valores"
   ]
  },
  {
   "cell_type": "code",
   "execution_count": 7,
   "metadata": {},
   "outputs": [
    {
     "name": "stdout",
     "output_type": "stream",
     "text": [
      "{'item_0': 455, 'item_1': 691, 'item_2': 833, 'item_3': 425, 'item_4': 1064, 'item_5': 758, 'item_6': 419, 'item_7': 914, 'item_8': 651, 'item_9': 966, 'item_10': 828, 'item_11': 827, 'item_12': 857, 'item_13': 837, 'item_14': 894}\n"
     ]
    }
   ],
   "source": [
    "v = {}\n",
    "for idx, value in enumerate(values):\n",
    "    v[items[idx]] = value\n",
    "\n",
    "print(v)"
   ]
  },
  {
   "cell_type": "markdown",
   "metadata": {},
   "source": [
    "#### Modelagem"
   ]
  },
  {
   "cell_type": "code",
   "execution_count": 8,
   "metadata": {},
   "outputs": [
    {
     "name": "stdout",
     "output_type": "stream",
     "text": [
      "Restricted license - for non-production use only - expires 2022-01-13\n",
      "Gurobi Optimizer version 9.1.1 build v9.1.1rc0 (linux64)\n",
      "Thread count: 4 physical cores, 8 logical processors, using up to 8 threads\n",
      "Optimize a model with 17 rows, 30 columns and 60 nonzeros\n",
      "Model fingerprint: 0xbd5c0cec\n",
      "Variable types: 0 continuous, 30 integer (30 binary)\n",
      "Coefficient statistics:\n",
      "  Matrix range     [1e+00, 2e+02]\n",
      "  Objective range  [4e+02, 1e+03]\n",
      "  Bounds range     [1e+00, 1e+00]\n",
      "  RHS range        [1e+00, 6e+02]\n",
      "Found heuristic solution: objective 6210.0000000\n",
      "Presolve time: 0.00s\n",
      "Presolved: 17 rows, 30 columns, 60 nonzeros\n",
      "Variable types: 0 continuous, 30 integer (30 binary)\n",
      "\n",
      "Root relaxation: objective 6.889692e+03, 14 iterations, 0.00 seconds\n",
      "\n",
      "    Nodes    |    Current Node    |     Objective Bounds      |     Work\n",
      " Expl Unexpl |  Obj  Depth IntInf | Incumbent    BestBd   Gap | It/Node Time\n",
      "\n",
      "     0     0 6889.69173    0    3 6210.00000 6889.69173  10.9%     -    0s\n",
      "H    0     0                    6740.0000000 6889.69173  2.22%     -    0s\n",
      "H    0     0                    6760.0000000 6889.69173  1.92%     -    0s\n",
      "H    0     0                    6838.0000000 6889.69173  0.76%     -    0s\n",
      "     0     0 6870.67564    0    3 6838.00000 6870.67564  0.48%     -    0s\n",
      "     0     0 6870.67564    0    6 6838.00000 6870.67564  0.48%     -    0s\n",
      "H    0     0                    6858.0000000 6870.67564  0.18%     -    0s\n",
      "     0     0 6870.67564    0    5 6858.00000 6870.67564  0.18%     -    0s\n",
      "     0     0 6865.89706    0    4 6858.00000 6865.89706  0.12%     -    0s\n",
      "     0     0 6865.89706    0    8 6858.00000 6865.89706  0.12%     -    0s\n",
      "     0     0 6865.89706    0    3 6858.00000 6865.89706  0.12%     -    0s\n",
      "     0     0 6865.89706    0    8 6858.00000 6865.89706  0.12%     -    0s\n",
      "     0     0 6865.89706    0    8 6858.00000 6865.89706  0.12%     -    0s\n",
      "     0     0 6865.89706    0    8 6858.00000 6865.89706  0.12%     -    0s\n",
      "     0     0 6865.89706    0    9 6858.00000 6865.89706  0.12%     -    0s\n",
      "     0     0 6865.89706    0    9 6858.00000 6865.89706  0.12%     -    0s\n",
      "     0     0 6865.89706    0    2 6858.00000 6865.89706  0.12%     -    0s\n",
      "     0     0     cutoff    0      6858.00000 6858.00000  0.00%     -    0s\n",
      "\n",
      "Cutting planes:\n",
      "  Gomory: 5\n",
      "  Cover: 2\n",
      "  MIR: 2\n",
      "  StrongCG: 1\n",
      "  RLT: 1\n",
      "\n",
      "Explored 1 nodes (86 simplex iterations) in 0.33 seconds\n",
      "Thread count was 8 (of 8 available processors)\n",
      "\n",
      "Solution count 5: 6858 6838 6760 ... 6210\n",
      "\n",
      "Optimal solution found (tolerance 1.00e-04)\n",
      "Best objective 6.858000000000e+03, best bound 6.858000000000e+03, gap 0.0000%\n"
     ]
    }
   ],
   "source": [
    "model = gurobipy.Model()\n",
    "\n",
    "# decision variables\n",
    "x = model.addVars(items, knaps, vtype=gurobipy.GRB.BINARY)\n",
    "\n",
    "# objective to optimize\n",
    "model.setObjective(\n",
    "    gurobipy.quicksum(v[i] * x[i,j] for i in items for j in knaps),\n",
    "    sense=gurobipy.GRB.MAXIMIZE\n",
    ")\n",
    "\n",
    "# constraint 1\n",
    "c1 = model.addConstrs(\n",
    "    gurobipy.quicksum(x[i,j] for j in knaps) <= 1 for i in items\n",
    ")\n",
    "\n",
    "# constraint 2\n",
    "c2 = model.addConstrs(\n",
    "    gurobipy.quicksum(w[i] * x[i,j] for i in items) <= C[j] for j in knaps\n",
    ")\n",
    "\n",
    "model.optimize()"
   ]
  },
  {
   "cell_type": "markdown",
   "metadata": {},
   "source": [
    "#### Itens Selecionados"
   ]
  },
  {
   "cell_type": "code",
   "execution_count": 9,
   "metadata": {},
   "outputs": [
    {
     "name": "stdout",
     "output_type": "stream",
     "text": [
      "knap_0\n",
      "item_1 item_3 item_4 item_6 item_10 item_11 \n",
      "\n",
      "knap_1\n",
      "item_2 item_7 item_12 \n",
      "\n"
     ]
    }
   ],
   "source": [
    "approved = []\n",
    "for j in knaps:\n",
    "    print(j)\n",
    "    for i in items:\n",
    "        if round(x[i,j].X) == 1:\n",
    "            print(i, end=' ')\n",
    "    print('\\n')"
   ]
  },
  {
   "cell_type": "markdown",
   "metadata": {},
   "source": [
    "#### Valor Acumulado"
   ]
  },
  {
   "cell_type": "code",
   "execution_count": 10,
   "metadata": {},
   "outputs": [
    {
     "name": "stdout",
     "output_type": "stream",
     "text": [
      "Valor Objetivo: 6858.0\n"
     ]
    }
   ],
   "source": [
    "print('Valor Objetivo: {}'.format(model.objVal))"
   ]
  },
  {
   "cell_type": "markdown",
   "metadata": {},
   "source": [
    "#### Capacidade Utilizada"
   ]
  },
  {
   "cell_type": "code",
   "execution_count": 11,
   "metadata": {},
   "outputs": [
    {
     "name": "stdout",
     "output_type": "stream",
     "text": [
      "Capacidade Utilizada knap_0: 598.0\n",
      "Capacidade Utilizada knap_1: 375.0\n"
     ]
    }
   ],
   "source": [
    "for j in knaps:\n",
    "    print('Capacidade Utilizada {}: {}'.format(j, C[j] - c2[j].Slack))"
   ]
  }
 ],
 "metadata": {
  "kernelspec": {
   "display_name": "Python 3",
   "language": "python",
   "name": "python3"
  },
  "language_info": {
   "codemirror_mode": {
    "name": "ipython",
    "version": 3
   },
   "file_extension": ".py",
   "mimetype": "text/x-python",
   "name": "python",
   "nbconvert_exporter": "python",
   "pygments_lexer": "ipython3",
   "version": "3.8.5"
  }
 },
 "nbformat": 4,
 "nbformat_minor": 4
}
