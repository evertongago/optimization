{
 "cells": [
  {
   "cell_type": "markdown",
   "metadata": {},
   "source": [
    "# Problema Mix de Produção"
   ]
  },
  {
   "cell_type": "markdown",
   "metadata": {},
   "source": [
    "<div style=\"text-align:justify\">\n",
    "A definição do mix de produção proporciona a alocação dos recursos produtivos no processo de manufatura, visando a otimização da utilização dos recursos e do desempenho do sistema produtivo o que, por sua vez, a um nível gerencial, norteia o desempenho da organização.\n",
    "</div>"
   ]
  },
  {
   "cell_type": "markdown",
   "metadata": {},
   "source": [
    "## Variáveis"
   ]
  },
  {
   "cell_type": "markdown",
   "metadata": {},
   "source": [
    "Seja:<br>\n",
    "- p<sub>i</sub> = O luco do </i>i-ésimo</i> produto\n",
    "- m<sub>j</sub> = A </i>j-ésima</i> máquina\n",
    "- c<sub>ij</sub> = O custo de produzir p<sub>i</sub> na máquina m<sub>j</sub>\n",
    "- a<sub>j</sub> = O tempo disponível para a máquina m<sub>j</sub>\n",
    "- x<sub>i</sub> = x<sub>i</sub> &isin; &real; &frasl; x<sub>i</sub> &ge; 0"
   ]
  },
  {
   "cell_type": "markdown",
   "metadata": {},
   "source": [
    "## Função Objetivo\n",
    "<br>\n",
    "Maximizar o lucro de produção."
   ]
  },
  {
   "cell_type": "markdown",
   "metadata": {},
   "source": [
    "$$ \\sum_{i=0}^{n} x_i.p_i $$"
   ]
  },
  {
   "cell_type": "markdown",
   "metadata": {},
   "source": [
    "## Restrição\n",
    "<br>\n",
    "$$ \\sum_{i=0}^{n} x_i.c_{ij} \\leq a_j, \\forall j=0 ... m $$"
   ]
  },
  {
   "cell_type": "markdown",
   "metadata": {},
   "source": [
    "## Implementação"
   ]
  },
  {
   "cell_type": "markdown",
   "metadata": {},
   "source": [
    "<div style=\"text-align:justify\">\n",
    "Vamos implementar a solução modelada utilizando a Gurobi API. Para isso, vamos criar dados sintéticos que representem o lucro de produtos e seus respectivos custos de produção por máquina.\n",
    "</div>"
   ]
  },
  {
   "cell_type": "markdown",
   "metadata": {},
   "source": [
    "#### Carregando Dependências"
   ]
  },
  {
   "cell_type": "code",
   "execution_count": 1,
   "metadata": {},
   "outputs": [],
   "source": [
    "import gurobipy"
   ]
  },
  {
   "cell_type": "markdown",
   "metadata": {},
   "source": [
    "#### Produtos"
   ]
  },
  {
   "cell_type": "code",
   "execution_count": 2,
   "metadata": {},
   "outputs": [
    {
     "data": {
      "text/plain": [
       "['prod_0', 'prod_1', 'prod_2']"
      ]
     },
     "execution_count": 2,
     "metadata": {},
     "output_type": "execute_result"
    }
   ],
   "source": [
    "prods = ['prod_{}'.format(i) for i in range(3)]\n",
    "prods"
   ]
  },
  {
   "cell_type": "markdown",
   "metadata": {},
   "source": [
    "#### Lucos"
   ]
  },
  {
   "cell_type": "code",
   "execution_count": 3,
   "metadata": {},
   "outputs": [
    {
     "data": {
      "text/plain": [
       "{'prod_0': 12, 'prod_1': 18, 'prod_2': 22}"
      ]
     },
     "execution_count": 3,
     "metadata": {},
     "output_type": "execute_result"
    }
   ],
   "source": [
    "profit = [12, 18, 22]\n",
    "p = {}\n",
    "for i, value in enumerate(prods):\n",
    "    p[value] = profit[i]\n",
    "\n",
    "p"
   ]
  },
  {
   "cell_type": "markdown",
   "metadata": {},
   "source": [
    "#### Máquinas"
   ]
  },
  {
   "cell_type": "code",
   "execution_count": 4,
   "metadata": {},
   "outputs": [
    {
     "data": {
      "text/plain": [
       "['mach_0', 'mach_1', 'mach_2']"
      ]
     },
     "execution_count": 4,
     "metadata": {},
     "output_type": "execute_result"
    }
   ],
   "source": [
    "mach = ['mach_{}'.format(i) for i in range(3)]\n",
    "mach"
   ]
  },
  {
   "cell_type": "markdown",
   "metadata": {},
   "source": [
    "#### Tempo Disponível por Máquina"
   ]
  },
  {
   "cell_type": "code",
   "execution_count": 5,
   "metadata": {},
   "outputs": [
    {
     "data": {
      "text/plain": [
       "{'mach_0': 120, 'mach_1': 200, 'mach_2': 250}"
      ]
     },
     "execution_count": 5,
     "metadata": {},
     "output_type": "execute_result"
    }
   ],
   "source": [
    "time = [120, 200, 250]\n",
    "a = {}\n",
    "for i, value in enumerate(mach):\n",
    "    a[value] = time[i]\n",
    "\n",
    "a"
   ]
  },
  {
   "cell_type": "markdown",
   "metadata": {},
   "source": [
    "#### Custo de Produto por Máquina"
   ]
  },
  {
   "cell_type": "code",
   "execution_count": 6,
   "metadata": {},
   "outputs": [
    {
     "name": "stdout",
     "output_type": "stream",
     "text": [
      "{('prod_0', 'mach_0'): 1.5, ('prod_0', 'mach_1'): 0.0, ('prod_0', 'mach_2'): 1.2, ('prod_1', 'mach_0'): 0.0, ('prod_1', 'mach_1'): 2.2, ('prod_1', 'mach_2'): 2.0, ('prod_2', 'mach_0'): 1.2, ('prod_2', 'mach_1'): 1.4, ('prod_2', 'mach_2'): 2.4}\n"
     ]
    }
   ],
   "source": [
    "cost = [\n",
    "    [1.5, 0.0, 1.2],\n",
    "    [0.0, 2.2, 2.0],\n",
    "    [1.2, 1.4, 2.4]\n",
    "]\n",
    "\n",
    "c = {}\n",
    "for i, prd_value in enumerate(prods):\n",
    "    for j, mch_value in enumerate(mach):\n",
    "        c[prd_value, mch_value] = cost[i][j]\n",
    "\n",
    "print(c)"
   ]
  },
  {
   "cell_type": "markdown",
   "metadata": {},
   "source": [
    "#### Modelagem"
   ]
  },
  {
   "cell_type": "code",
   "execution_count": 7,
   "metadata": {},
   "outputs": [
    {
     "name": "stdout",
     "output_type": "stream",
     "text": [
      "Restricted license - for non-production use only - expires 2022-01-13\n",
      "Gurobi Optimizer version 9.1.1 build v9.1.1rc0 (linux64)\n",
      "Thread count: 4 physical cores, 8 logical processors, using up to 8 threads\n",
      "Optimize a model with 3 rows, 3 columns and 7 nonzeros\n",
      "Model fingerprint: 0xa81d5c28\n",
      "Coefficient statistics:\n",
      "  Matrix range     [1e+00, 2e+00]\n",
      "  Objective range  [1e+01, 2e+01]\n",
      "  Bounds range     [0e+00, 0e+00]\n",
      "  RHS range        [1e+02, 2e+02]\n",
      "Presolve time: 0.01s\n",
      "Presolved: 3 rows, 3 columns, 7 nonzeros\n",
      "\n",
      "Iteration    Objective       Primal Inf.    Dual Inf.      Time\n",
      "       0    5.2000000e+31   5.000000e+30   5.200000e+01      0s\n",
      "       5    2.3460000e+03   0.000000e+00   0.000000e+00      0s\n",
      "\n",
      "Solved in 5 iterations and 0.02 seconds\n",
      "Optimal objective  2.346000000e+03\n"
     ]
    }
   ],
   "source": [
    "model = gurobipy.Model()\n",
    "\n",
    "x = model.addVars(prods)\n",
    "\n",
    "model.setObjective(\n",
    "    gurobipy.quicksum(x[i] * p[i] for i in prods),\n",
    "    sense=gurobipy.GRB.MAXIMIZE\n",
    ")\n",
    "\n",
    "c1 = model.addConstrs(\n",
    "    gurobipy.quicksum(x[i] * c[i,j] for i in prods) <= a[j] for j in mach\n",
    ")\n",
    "\n",
    "model.optimize()"
   ]
  },
  {
   "cell_type": "markdown",
   "metadata": {},
   "source": [
    "#### Lucro Máximo"
   ]
  },
  {
   "cell_type": "code",
   "execution_count": 8,
   "metadata": {},
   "outputs": [
    {
     "data": {
      "text/plain": [
       "2346.0"
      ]
     },
     "execution_count": 8,
     "metadata": {},
     "output_type": "execute_result"
    }
   ],
   "source": [
    "model.objVal"
   ]
  },
  {
   "cell_type": "markdown",
   "metadata": {},
   "source": [
    "#### Unidades de Produtos"
   ]
  },
  {
   "cell_type": "code",
   "execution_count": 9,
   "metadata": {},
   "outputs": [
    {
     "name": "stdout",
     "output_type": "stream",
     "text": [
      "Produto prod_0: 80.0\n",
      "Produto prod_1: 77.0\n",
      "Produto prod_2: 0.0\n"
     ]
    }
   ],
   "source": [
    "for p in prods:\n",
    "    print('Produto {}: {}'.format(p, x[p].X))"
   ]
  },
  {
   "cell_type": "markdown",
   "metadata": {},
   "source": [
    "#### Ocupação de Máquinas"
   ]
  },
  {
   "cell_type": "code",
   "execution_count": 10,
   "metadata": {},
   "outputs": [
    {
     "name": "stdout",
     "output_type": "stream",
     "text": [
      "Máquina mach_0: 120.0 horas\n",
      "Máquina mach_1: 169.4 horas\n",
      "Máquina mach_2: 250.0 horas\n"
     ]
    }
   ],
   "source": [
    "for m in mach:\n",
    "    print('Máquina {}: {} horas'.format(m, a[m] - c1[m].Slack))"
   ]
  }
 ],
 "metadata": {
  "kernelspec": {
   "display_name": "Python 3",
   "language": "python",
   "name": "python3"
  },
  "language_info": {
   "codemirror_mode": {
    "name": "ipython",
    "version": 3
   },
   "file_extension": ".py",
   "mimetype": "text/x-python",
   "name": "python",
   "nbconvert_exporter": "python",
   "pygments_lexer": "ipython3",
   "version": "3.8.5"
  }
 },
 "nbformat": 4,
 "nbformat_minor": 4
}
